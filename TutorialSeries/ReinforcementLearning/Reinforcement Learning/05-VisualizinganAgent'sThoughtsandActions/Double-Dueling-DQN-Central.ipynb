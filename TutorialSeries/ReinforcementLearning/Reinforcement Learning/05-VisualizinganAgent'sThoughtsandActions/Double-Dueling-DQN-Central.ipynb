{
 "cells": [
  {
   "cell_type": "markdown",
   "metadata": {},
   "source": [
    "# Reinforcement Learning Control Center Example\n",
    "This notebook provides an example code for how to integrate the RL Control Center into an existing training pipeline. To learn more about the RL Control Center, read here: https://medium.com/p/4f27b134bb2a\n",
    "\n",
    "For more reinforcment learning tutorials, see:\n",
    "https://github.com/awjuliani/DeepRL-Agents"
   ]
  },
  {
   "cell_type": "code",
   "execution_count": null,
   "metadata": {
    "collapsed": true
   },
   "outputs": [],
   "source": [
    "import gym\n",
    "import numpy as np\n",
    "import random\n",
    "import tensorflow as tf\n",
    "import matplotlib.pyplot as plt\n",
    "import scipy.misc\n",
    "import os\n",
    "import csv\n",
    "%matplotlib inline"
   ]
  },
  {
   "cell_type": "markdown",
   "metadata": {},
   "source": [
    "### Load the game environment"
   ]
  },
  {
   "cell_type": "markdown",
   "metadata": {},
   "source": [
    "Feel free to adjust the size of the gridworld. Making it smaller provides an easier task for our DQN agent, while making the world larger increases the challenge."
   ]
  },
  {
   "cell_type": "code",
   "execution_count": null,
   "metadata": {
    "collapsed": false,
    "scrolled": false
   },
   "outputs": [],
   "source": [
    "class gameOb():\n",
    "    def __init__(self,x,y,size,intensity,channel,reward):\n",
    "        self.x = x\n",
    "        self.y = y\n",
    "        self.size = size\n",
    "        self.intensity = intensity\n",
    "        self.channel = channel\n",
    "        self.reward = reward\n",
    "        \n",
    "class gameEnv():\n",
    "    def __init__(self):\n",
    "        self.sizeX = 3\n",
    "        self.sizeY = 3\n",
    "        self.actions = 4\n",
    "        a = self.reset()\n",
    "        plt.imshow(a,interpolation=\"nearest\")\n",
    "        \n",
    "        \n",
    "    def reset(self):\n",
    "        objects = []\n",
    "        xList = range(self.sizeX)\n",
    "        yList = range(self.sizeY)\n",
    "        Xs = np.random.choice(xList,replace=False,size=3)\n",
    "        Ys = np.random.choice(yList,replace=False,size=3)\n",
    "        hero = gameOb(Ys[0],Xs[0],1,1,2,None)\n",
    "        bug = gameOb(Ys[1],Xs[1],1,1,1,1)\n",
    "        hole = gameOb(Ys[2],Xs[2],1,1,0,-1)\n",
    "        #bug2 = gameOb(Ys[2],Xs[1],1,1,1,1)\n",
    "        #bug3 = gameOb(Ys[2],Xs[2],1,1,1,1)\n",
    "        #bug4 = gameOb(Ys[2],Xs[0],1,1,1,1)\n",
    "        #bug5 = gameOb(Ys[1],Xs[0],1,1,1,1)\n",
    "        #bug6 = gameOb(Ys[1],Xs[2],1,1,1,1)\n",
    "        #bug7 = gameOb(Ys[0],Xs[2],1,1,1,1)\n",
    "        #bug8 = gameOb(Ys[0],Xs[1],1,1,1,1)\n",
    "        #hole2 = gameOb(Ys[1],Xs[1],1,1,0,-1)\n",
    "        objects.extend([hero,bug,hole])\n",
    "        #objects.extend([hero,bug,bug2,bug3,bug4,bug5,bug6,bug7,bug8])\n",
    "        state = self.renderEnv(objects)\n",
    "        self.objects = objects\n",
    "        self.state = state\n",
    "        return state\n",
    "\n",
    "    def moveChar(self,objects,direction):\n",
    "        # 0 - up, 1 - down, 2 - left, 3 - right\n",
    "        hero = objects[0]\n",
    "        if direction == 0 and hero.y >= 1:\n",
    "            hero.y -= 1\n",
    "        if direction == 1 and hero.y <= self.sizeY-2:\n",
    "            hero.y += 1\n",
    "        if direction == 2 and hero.x >= 1:\n",
    "            hero.x -= 1\n",
    "        if direction == 3 and hero.x <= self.sizeX-2:\n",
    "            hero.x += 1     \n",
    "        objects[0] = hero\n",
    "        return objects\n",
    "\n",
    "    def checkGoal(self,objects):\n",
    "        hero = objects[0]\n",
    "        others = objects[1:]\n",
    "        ended = False\n",
    "        for other in others:\n",
    "            if hero.x == other.x and hero.y == other.y:\n",
    "                ended == True\n",
    "                return other.reward,True\n",
    "        if ended == False:\n",
    "            return -0.1,False\n",
    "\n",
    "    def renderEnv(self,objects):\n",
    "        a = np.zeros([self.sizeY,self.sizeX,3])\n",
    "        for item in objects:\n",
    "            a[item.y:item.y+item.size,item.x:item.x+item.size,item.channel] = item.intensity\n",
    "        b = scipy.misc.imresize(a[:,:,0],[84,84,1],interp='nearest')\n",
    "        c = scipy.misc.imresize(a[:,:,1],[84,84,1],interp='nearest')\n",
    "        d = scipy.misc.imresize(a[:,:,2],[84,84,1],interp='nearest')\n",
    "        a = np.stack([b,c,d],axis=2)\n",
    "        return a\n",
    "\n",
    "    def step(self,action):\n",
    "        objects = self.moveChar(self.objects,action)\n",
    "        state = self.renderEnv(objects)\n",
    "        reward,done = self.checkGoal(objects)\n",
    "        return state,reward,done"
   ]
  },
  {
   "cell_type": "code",
   "execution_count": null,
   "metadata": {
    "collapsed": false
   },
   "outputs": [],
   "source": [
    "env = gameEnv()"
   ]
  },
  {
   "cell_type": "markdown",
   "metadata": {},
   "source": [
    "Above is an example of a starting environment in our simple game. The agent controls the blue square, and can move up, down, left, or right. The goal is to move to the green square (for +1 reward) and avoid the red square (for -1 reward). The position of the three blocks is randomized every episode."
   ]
  },
  {
   "cell_type": "markdown",
   "metadata": {},
   "source": [
    "### Implementing the network itself"
   ]
  },
  {
   "cell_type": "code",
   "execution_count": null,
   "metadata": {
    "collapsed": false
   },
   "outputs": [],
   "source": [
    "class Qnetwork():\n",
    "    def __init__(self,h_size):\n",
    "        #The network recieves a frame from the game, flattened into an array.\n",
    "        #It then resizes it and processes it through four convolutional layers.\n",
    "        self.scalarInput =  tf.placeholder(shape=[None,21168],dtype=tf.float32)\n",
    "        self.imageIn = tf.reshape(self.scalarInput,shape=[-1,84,84,3])\n",
    "        self.conv1 = tf.contrib.layers.convolution2d( \\\n",
    "            inputs=self.imageIn,num_outputs=32,kernel_size=[8,8],stride=[4,4],padding='VALID', biases_initializer=None)\n",
    "        self.conv2 = tf.contrib.layers.convolution2d( \\\n",
    "            inputs=self.conv1,num_outputs=64,kernel_size=[4,4],stride=[2,2],padding='VALID', biases_initializer=None)\n",
    "        self.conv3 = tf.contrib.layers.convolution2d( \\\n",
    "            inputs=self.conv2,num_outputs=64,kernel_size=[3,3],stride=[1,1],padding='VALID', biases_initializer=None)\n",
    "        self.conv4 = tf.contrib.layers.convolution2d( \\\n",
    "            inputs=self.conv3,num_outputs=512,kernel_size=[7,7],stride=[1,1],padding='VALID', biases_initializer=None)\n",
    "        \n",
    "        #We take the output from the final convolutional layer and split it into separate advantage and value streams.\n",
    "        self.streamAC,self.streamVC = tf.split(3,2,self.conv4)\n",
    "        self.streamA = tf.contrib.layers.flatten(self.streamAC)\n",
    "        self.streamV = tf.contrib.layers.flatten(self.streamVC)\n",
    "        self.AW = tf.Variable(tf.random_normal([h_size/2,env.actions]))\n",
    "        self.VW = tf.Variable(tf.random_normal([h_size/2,1]))\n",
    "        self.Advantage = tf.matmul(self.streamA,self.AW)\n",
    "        self.Value = tf.matmul(self.streamV,self.VW)\n",
    "        \n",
    "        #Then combine them together to get our final Q-values.\n",
    "        self.Qout = self.Value + tf.sub(self.Advantage,tf.reduce_mean(self.Advantage,reduction_indices=1,keep_dims=True))\n",
    "        self.predict = tf.argmax(self.Qout,1)\n",
    "        \n",
    "        #Below we obtain the loss by taking the sum of squares difference between the target and prediction Q values.\n",
    "        self.targetQ = tf.placeholder(shape=[None],dtype=tf.float32)\n",
    "        self.actions = tf.placeholder(shape=[None],dtype=tf.int32)\n",
    "        self.actions_onehot = tf.one_hot(self.actions,env.actions,dtype=tf.float32)\n",
    "        \n",
    "        self.Q = tf.reduce_sum(tf.mul(self.Qout, self.actions_onehot), reduction_indices=1)\n",
    "        \n",
    "        self.td_error = tf.square(self.targetQ - self.Q)\n",
    "        self.loss = tf.reduce_mean(self.td_error)\n",
    "        self.trainer = tf.train.AdamOptimizer(learning_rate=0.001)\n",
    "        self.updateModel = self.trainer.minimize(self.loss)"
   ]
  },
  {
   "cell_type": "markdown",
   "metadata": {},
   "source": [
    "### Experience Replay"
   ]
  },
  {
   "cell_type": "markdown",
   "metadata": {},
   "source": [
    "This class allows us to store experies and sample then randomly to train the network."
   ]
  },
  {
   "cell_type": "code",
   "execution_count": null,
   "metadata": {
    "collapsed": true
   },
   "outputs": [],
   "source": [
    "class experience_buffer():\n",
    "    def __init__(self, buffer_size = 50000):\n",
    "        self.buffer = []\n",
    "        self.buffer_size = buffer_size\n",
    "    \n",
    "    def add(self,experience):\n",
    "        if len(self.buffer) + len(experience) >= self.buffer_size:\n",
    "            self.buffer[0:(len(experience)+len(self.buffer))-self.buffer_size] = []\n",
    "        self.buffer.extend(experience)\n",
    "            \n",
    "    def sample(self,size):\n",
    "        return np.reshape(np.array(random.sample(self.buffer,size)),[size,5])"
   ]
  },
  {
   "cell_type": "markdown",
   "metadata": {},
   "source": [
    "This is a simple function to resize our game frames."
   ]
  },
  {
   "cell_type": "code",
   "execution_count": null,
   "metadata": {
    "collapsed": false
   },
   "outputs": [],
   "source": [
    "def processState(states):\n",
    "    return np.reshape(states,[21168])"
   ]
  },
  {
   "cell_type": "markdown",
   "metadata": {},
   "source": [
    "This function allows us to update the parameters of our target network with those of the primary network."
   ]
  },
  {
   "cell_type": "code",
   "execution_count": null,
   "metadata": {
    "collapsed": false
   },
   "outputs": [],
   "source": [
    "def updateTarget(tfVars,sess):\n",
    "    total_vars = len(tfVars)\n",
    "    for idx,var in enumerate(tfVars[0:total_vars/2]):\n",
    "        sess.run(tfVars[idx+total_vars/2].assign(var.eval()))"
   ]
  },
  {
   "cell_type": "markdown",
   "metadata": {},
   "source": [
    "This function allows us to discount our rewards for a given episode. This approach is called the Monte-Carlo method, since we apply it to all the rewards in a given episode. We will be using it in order to provide a more robust reward signal to the DQN."
   ]
  },
  {
   "cell_type": "code",
   "execution_count": null,
   "metadata": {
    "collapsed": true
   },
   "outputs": [],
   "source": [
    "gamma = 0.99\n",
    "\n",
    "def discount_rewards(r):\n",
    "    \"\"\" take 1D float array of rewards and compute discounted reward \"\"\"\n",
    "    discounted_r = np.zeros_like(r)\n",
    "    running_add = 0\n",
    "    for t in reversed(xrange(0, r.size)):\n",
    "        running_add = running_add * gamma + r[t]\n",
    "        discounted_r[t] = running_add\n",
    "    return discounted_r"
   ]
  },
  {
   "cell_type": "markdown",
   "metadata": {},
   "source": [
    "This code allows gifs to be saved of the training episode for use in the Control Center."
   ]
  },
  {
   "cell_type": "code",
   "execution_count": null,
   "metadata": {
    "collapsed": true
   },
   "outputs": [],
   "source": [
    "def make_gif(images, fname, duration=2, true_image=False):\n",
    "  import moviepy.editor as mpy\n",
    "\n",
    "  def make_frame(t):\n",
    "    try:\n",
    "      x = images[int(len(images)/duration*t)]\n",
    "    except:\n",
    "      x = images[-1]\n",
    "\n",
    "    if true_image:\n",
    "      return x.astype(np.uint8)\n",
    "    else:\n",
    "      return ((x+1)/2*255).astype(np.uint8)\n",
    "\n",
    "  clip = mpy.VideoClip(make_frame, duration=duration)\n",
    "  clip.write_gif(fname, fps = len(images) / duration)"
   ]
  },
  {
   "cell_type": "markdown",
   "metadata": {},
   "source": [
    "### Training the network"
   ]
  },
  {
   "cell_type": "markdown",
   "metadata": {},
   "source": [
    "Setting all the training parameters"
   ]
  },
  {
   "cell_type": "code",
   "execution_count": null,
   "metadata": {
    "collapsed": true
   },
   "outputs": [],
   "source": [
    "batch_size = 32 #How many experiences to use for each training step.\n",
    "update_freq = 5 #How often to perform a training step.\n",
    "y = .99 #Discount factor on the target Q-values\n",
    "startE = 1 #Starting chance of random action\n",
    "endE = 0.1 #Final chance of random action\n",
    "anneling_steps = 10000 #How many steps of training to reduce startE to endE.\n",
    "num_episodes = 10000 #How many episodes of game environment to train network with.\n",
    "pre_train_steps = 10000 #How many steps of random actions before training begins.\n",
    "load_model = True #Whether to load a saved model.\n",
    "path = \"./dqn\" #The path to save our model to.\n",
    "h_size = 512 #The size of the final convolutional layer before splitting it into Advantage and Value streams.\n",
    "max_epLength = 100 #The max allowed length of our episode."
   ]
  },
  {
   "cell_type": "code",
   "execution_count": null,
   "metadata": {
    "collapsed": true
   },
   "outputs": [],
   "source": [
    "tf.reset_default_graph()\n",
    "mainQN = Qnetwork(h_size)\n",
    "targetQN = Qnetwork(h_size)\n",
    "\n",
    "init = tf.initialize_all_variables()\n",
    "\n",
    "saver = tf.train.Saver()\n",
    "\n",
    "trainables = tf.trainable_variables()\n",
    "\n",
    "myBuffer = experience_buffer()\n",
    "\n",
    "#Set the rate of random action decrease. \n",
    "e = startE\n",
    "stepDrop = (startE - endE)/anneling_steps\n",
    "\n",
    "#create lists to contain total rewards and steps per episode\n",
    "jList = []\n",
    "rList = []\n",
    "total_steps = 0\n",
    "\n",
    "#Make a path for our model to be saved in.\n",
    "if not os.path.exists(path):\n",
    "    os.makedirs(path)\n",
    "\n",
    "##Write the first line of the master log-file for the Control Center\n",
    "with open('./Center/log.csv', 'w') as myfile:\n",
    "    wr = csv.writer(myfile, quoting=csv.QUOTE_ALL)\n",
    "    wr.writerow(['Episode','Length','Reward','IMG','LOG'])    \n",
    "    \n",
    "    #wr = csv.writer(open('./Center/log.csv', 'a'), quoting=csv.QUOTE_ALL)\n",
    "with tf.Session() as sess:\n",
    "    if load_model == True:\n",
    "        print 'Loading Model...'\n",
    "        ckpt = tf.train.get_checkpoint_state(path)\n",
    "        saver.restore(sess,ckpt.model_checkpoint_path)\n",
    "    sess.run(init)\n",
    "    updateTarget(trainables,sess) #Set the target network to be equal to the primary network.\n",
    "    for i in range(num_episodes):\n",
    "        episodeBuffer = experience_buffer()\n",
    "        #Reset environment and get first new observation\n",
    "        s = env.reset()\n",
    "        s = processState(s)\n",
    "        d = False\n",
    "        rAll = 0\n",
    "        j = 0\n",
    "        #The Q-Network\n",
    "        while j < max_epLength: #If the agent takes longer than 200 moves to reach either of the blocks, end the trial.\n",
    "            j+=1\n",
    "            #Choose an action by greedily (with e chance of random action) from the Q-network\n",
    "            if np.random.rand(1) < e or total_steps < pre_train_steps:\n",
    "                a = np.random.randint(0,4)\n",
    "            else:\n",
    "                a = sess.run(mainQN.predict,feed_dict={mainQN.scalarInput:[s]})[0]\n",
    "            s1,r,d = env.step(a)\n",
    "            s1 = processState(s1)\n",
    "            total_steps += 1\n",
    "            episodeBuffer.add(np.reshape(np.array([s,a,r,s1,d]),[1,5])) #Save the experience to our episode buffer.\n",
    "\n",
    "            if total_steps > pre_train_steps:\n",
    "                if e > endE:\n",
    "                    e -= stepDrop\n",
    "\n",
    "                if total_steps % (update_freq*1000) == 0:\n",
    "                    print \"Target network updated.\"\n",
    "                    updateTarget(trainables,sess)\n",
    "\n",
    "                if total_steps % (update_freq) == 0:\n",
    "                    trainBatch = myBuffer.sample(batch_size) #Get a random batch of experiences.\n",
    "                    #Below we perform the Double-DQN update to the target Q-values\n",
    "                    Q1 = sess.run(mainQN.predict,feed_dict={mainQN.scalarInput:np.vstack(trainBatch[:,3])})\n",
    "                    Q2 = sess.run(targetQN.Qout,feed_dict={targetQN.scalarInput:np.vstack(trainBatch[:,3])})\n",
    "                    end_multiplier = -(trainBatch[:,4] - 1)\n",
    "                    doubleQ = Q2[range(batch_size),Q1]\n",
    "                    targetQ = trainBatch[:,2] + (y*doubleQ * end_multiplier)\n",
    "                    #Update the network with our target values.\n",
    "                    _ = sess.run(mainQN.updateModel, \\\n",
    "                        feed_dict={mainQN.scalarInput:np.vstack(trainBatch[:,0]),mainQN.targetQ:targetQ, mainQN.actions:trainBatch[:,1]})\n",
    "            rAll += r\n",
    "            s = s1\n",
    "\n",
    "            if d == True:\n",
    "\n",
    "                break\n",
    "\n",
    "        #Get all experiences from this episode and discount their rewards.\n",
    "        episodeRewards = np.array(episodeBuffer.buffer)[:,2]\n",
    "        discountRewards = discount_rewards(episodeRewards)\n",
    "        bufferArray = np.array(episodeBuffer.buffer)\n",
    "        bufferArray[:,2] = discountRewards\n",
    "        episodeBuffer.buffer = zip(bufferArray)\n",
    "        #Add the discounted experiences to our experience buffer.\n",
    "        myBuffer.add(episodeBuffer.buffer)\n",
    "        jList.append(j)\n",
    "        rList.append(rAll)\n",
    "\n",
    "\n",
    "        #Periodically save the model. \n",
    "        if i % 1000 == 0:\n",
    "            saver.save(sess,path+'/model-'+str(i)+'.cptk')\n",
    "            print \"Saved Model\"\n",
    "        if len(rList) % 100 == 0:\n",
    "            #Record performance metrics and episode logs for the Control Center.\n",
    "            with open('./Center/log.csv', 'a') as myfile:\n",
    "                images = zip(bufferArray[:,0])\n",
    "                images.append(bufferArray[-1,3])\n",
    "                images = np.vstack(images)\n",
    "                images = np.resize(images,[len(images),84,84,3])\n",
    "                make_gif(images,'./Center/frames/image'+str(i)+'.gif',duration=len(images),true_image=True)\n",
    "                wr = csv.writer(myfile, quoting=csv.QUOTE_ALL)\n",
    "                wr.writerow([i,np.mean(jList[-50:]),np.mean(rList[-50:]),'./frames/image'+str(i)+'.gif','./frames/log'+str(i)+'.csv'])\n",
    "                myfile.close()\n",
    "            with open('./Center/frames/log'+str(i)+'.csv','w') as myfile:\n",
    "                wr = csv.writer(myfile, quoting=csv.QUOTE_ALL)\n",
    "                wr.writerow([\"ACTION\",\"REWARD\",\"A0\",\"A1\",'A2','A3','V'])\n",
    "                a, v = sess.run([mainQN.Advantage,mainQN.Value],feed_dict={mainQN.scalarInput:np.vstack(bufferArray[:,0])})\n",
    "                wr.writerows(zip(bufferArray[:,1],bufferArray[:,2],a[:,0],a[:,1],a[:,2],a[:,3],v[:,0]))\n",
    "            print total_steps,np.mean(rList[-50:]), e\n",
    "    saver.save(sess,path+'/model-'+str(i)+'.cptk')\n",
    "print \"Percent of succesful episodes: \" + str(sum(rList)/num_episodes) + \"%\""
   ]
  },
  {
   "cell_type": "markdown",
   "metadata": {
    "collapsed": true
   },
   "source": [
    "### Testing the network"
   ]
  },
  {
   "cell_type": "code",
   "execution_count": null,
   "metadata": {
    "collapsed": true
   },
   "outputs": [],
   "source": [
    "e = 0.05 #The chance of chosing a random action\n",
    "num_episodes = 10000 #How many episodes of game environment to train network with.\n",
    "load_model = True #Whether to load a saved model.\n",
    "path = \"./dqn\" #The path to save/load our model to/from.\n",
    "path = \"./Central\" #The path to save our log files for use in Control Center.\n",
    "h_size = 512 #The size of the final convolutional layer before splitting it into Advantage and Value streams.\n",
    "max_epLength = 100 #The max allowed length of our episode."
   ]
  },
  {
   "cell_type": "code",
   "execution_count": null,
   "metadata": {
    "collapsed": false
   },
   "outputs": [],
   "source": [
    "tf.reset_default_graph()\n",
    "mainQN = Qnetwork(h_size)\n",
    "targetQN = Qnetwork(h_size)\n",
    "\n",
    "init = tf.initialize_all_variables()\n",
    "\n",
    "saver = tf.train.Saver()\n",
    "\n",
    "trainables = tf.trainable_variables()\n",
    "\n",
    "#create lists to contain total rewards and steps per episode\n",
    "jList = []\n",
    "rList = []\n",
    "total_steps = 0\n",
    "\n",
    "#Make a path for our model to be saved in.\n",
    "if not os.path.exists(path):\n",
    "    os.makedirs(path)\n",
    "    \n",
    "with open('./Center/log.csv', 'w') as myfile:\n",
    "    wr = csv.writer(myfile, quoting=csv.QUOTE_ALL)\n",
    "    wr.writerow(['Episode','Length','Reward','IMG','LOG'])    \n",
    "    \n",
    "with tf.Session() as sess:\n",
    "    if load_model == True:\n",
    "        print 'Loading Model...'\n",
    "        ckpt = tf.train.get_checkpoint_state(path)\n",
    "        print ckpt\n",
    "        saver.restore(sess,ckpt.model_checkpoint_path)\n",
    "    #sess.run(init)\n",
    "    #updateTarget(trainables,sess) #Set the target network to be equal to the primary network.\n",
    "    for i in range(num_episodes):\n",
    "        episodeBuffer = experience_buffer()\n",
    "        #Reset environment and get first new observation\n",
    "        s = env.reset()\n",
    "        s = processState(s) \n",
    "        d = False\n",
    "        rAll = 0\n",
    "        j = 0\n",
    "        #The Q-Network\n",
    "        while j < max_epLength: #If the agent takes longer than 200 moves to reach either of the blocks, end the trial.\n",
    "            j+=1\n",
    "            #Choose an action by greedily (with e chance of random action) from the Q-network\n",
    "            if np.random.rand(1) < e:\n",
    "                a = np.random.randint(0,4)\n",
    "            else:\n",
    "                a = sess.run(mainQN.predict,feed_dict={mainQN.scalarInput:[s]})[0]\n",
    "            s1,r,d = env.step(a)\n",
    "            s1 = processState(s1) \n",
    "            total_steps += 1\n",
    "            episodeBuffer.add(np.reshape(np.array([s,a,r,s1,d]),[1,5])) #Save the experience to our episode buffer.\n",
    "\n",
    "            rAll += r\n",
    "            s = s1\n",
    "\n",
    "            if d == True:\n",
    "\n",
    "                break\n",
    "\n",
    "        #Get all experiences from this episode and discount their rewards.\n",
    "        episodeRewards = np.array(episodeBuffer.buffer)[:,2]\n",
    "        discountRewards = discount_rewards(episodeRewards)\n",
    "        bufferArray = np.array(episodeBuffer.buffer)\n",
    "        bufferArray[:,2] = discountRewards\n",
    "        episodeBuffer.buffer = zip(bufferArray)\n",
    "        #Add the discounted experiences to our experience buffer.\n",
    "        jList.append(j)\n",
    "        rList.append(rAll)\n",
    "\n",
    "        if len(rList) % 100 == 0:\n",
    "            with open('./Center/log.csv', 'a') as myfile:\n",
    "                images = zip(bufferArray[:,0])\n",
    "                images.append(bufferArray[-1,3])\n",
    "                images = np.vstack(images)\n",
    "                images = np.resize(images,[len(images),84,84,3])\n",
    "                make_gif(images,'./Center/frames/image'+str(i)+'.gif',duration=len(images),true_image=True)\n",
    "                wr = csv.writer(myfile, quoting=csv.QUOTE_ALL)\n",
    "                wr.writerow([i,np.mean(jList[-50:]),np.mean(rList[-50:]),'./frames/image'+str(i)+'.gif','./frames/log'+str(i)+'.csv'])\n",
    "                myfile.close()\n",
    "            with open('./Center/frames/log'+str(i)+'.csv','w') as myfile:\n",
    "                wr = csv.writer(myfile, quoting=csv.QUOTE_ALL)\n",
    "                wr.writerow([\"ACTION\",\"REWARD\",\"A0\",\"A1\",'A2','A3','V'])\n",
    "                a, v = sess.run([mainQN.Advantage,mainQN.Value],feed_dict={mainQN.scalarInput:np.vstack(bufferArray[:,0])})\n",
    "                wr.writerows(zip(bufferArray[:,1],bufferArray[:,2],a[:,0],a[:,1],a[:,2],a[:,3],v[:,0]))\n",
    "            print total_steps,np.mean(rList[-50:]), e\n",
    "print \"Percent of succesful episodes: \" + str(sum(rList)/num_episodes) + \"%\""
   ]
  }
 ],
 "metadata": {
  "kernelspec": {
   "display_name": "Python 2",
   "language": "python",
   "name": "python2"
  },
  "language_info": {
   "codemirror_mode": {
    "name": "ipython",
    "version": 2.0
   },
   "file_extension": ".py",
   "mimetype": "text/x-python",
   "name": "python",
   "nbconvert_exporter": "python",
   "pygments_lexer": "ipython2",
   "version": "2.7.10"
  }
 },
 "nbformat": 4,
 "nbformat_minor": 0
}